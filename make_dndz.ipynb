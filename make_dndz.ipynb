{
 "cells": [
  {
   "cell_type": "code",
   "execution_count": 1,
   "metadata": {},
   "outputs": [
    {
     "name": "stdout",
     "output_type": "stream",
     "text": [
      "('COADD_OBJECTS_ID', 'RA', 'DEC', 'MAG_AUTO_G', 'MAG_AUTO_R', 'MAG_AUTO_I', 'MAG_AUTO_Z', 'MEAN_Z_BPZv0_COADD_ORIG', 'Z_MC_BPZv0_COADD_ORIG', 'MEAN_Z_BPZv1_MOF_ORIG', 'Z_MC_BPZv1_MOF_ORIG', 'MEAN_Z_DNF_MOF', 'Z_MC_DNF_MOF')\n"
     ]
    }
   ],
   "source": [
    "from Cosmo import distance\n",
    "import numpy as np\n",
    "import csv\n",
    "\n",
    "data_dir = '/home/nil/Dropbox/Y3BAO/'\n",
    "data = np.genfromtxt(data_dir + 'LSS_Y1_PZ_merge_v1_1.csv', dtype=float, delimiter=',', names=True) \n",
    "print (data.dtype.names)          \n"
   ]
  },
  {
   "cell_type": "code",
   "execution_count": 2,
   "metadata": {},
   "outputs": [
    {
     "name": "stdout",
     "output_type": "stream",
     "text": [
      "-0.00087 6.6625202536\n",
      "-0.00087 7.00773\n",
      "2310414\n"
     ]
    }
   ],
   "source": [
    "zph=data['MEAN_Z_DNF_MOF']\n",
    "z_mc=data['Z_MC_DNF_MOF']\n",
    "\n",
    "\n",
    "print (min(zph), max(zph))\n",
    "print (min(z_mc), max(z_mc))\n",
    "\n",
    "print (len(z_mc))"
   ]
  },
  {
   "cell_type": "code",
   "execution_count": 10,
   "metadata": {},
   "outputs": [],
   "source": [
    "#make N bins photoz bins then in each bin histogram in z_mc\n",
    "\n",
    "Nbigbin=1\n",
    "\n",
    "nfinebin=35\n",
    "\n",
    "zph_bin_edge=np.linspace(0.7,0.8, Nbigbin+1)\n",
    "midzph=[0.5*(zph_bin_edge[i] + zph_bin_edge[i+1]) for i in range(Nbigbin)]\n",
    "\n",
    "d = distance(.25,.75)\n",
    "\n",
    "fod=open(\"/home/nil/Dropbox/w_model_code/Dgv_nbin.dat\",'w')\n",
    "for ii in range(len(midzph)):\n",
    "    fod.write(str(midzph[ii]) + \"   \" + str(d.Dgn(midzph[ii])) + '\\n')\n",
    "    \n",
    "fod.close()"
   ]
  },
  {
   "cell_type": "code",
   "execution_count": 11,
   "metadata": {},
   "outputs": [],
   "source": [
    "zmc_bin_edge=np.linspace(0.5,1.2, nfinebin+1)\n",
    "\n",
    "\n",
    "midzmc=[0.5*(zmc_bin_edge[i] + zmc_bin_edge[i+1]) for i in range(nfinebin)]\n",
    "\n",
    "\n",
    "\n",
    "\n",
    "for ii in range(len(midzph)):\n",
    "    fo=open('/home/nil/Dropbox/w_model_code/dndz_files/Y1redLSS_Y1_DNFv1.0z0.7-0.8_nz_bin{}.dat'.format(ii+1),'w')\n",
    "    #fo.write('#mid_zmc    n(z)' + '\\n')\n",
    "    zmc_select=[]\n",
    "    for jj in range(len(zph)):\n",
    "        if zph_bin_edge[ii]<= zph[jj] <= zph_bin_edge[ii+1]:\n",
    "            zmc_select.append(z_mc[jj])\n",
    "            \n",
    "    \n",
    "    nz=np.histogram(zmc_select,zmc_bin_edge,density=True)[0]\n",
    "    \n",
    "    for kk in range(len(midzmc)):\n",
    "        fo.write(str(midzmc[kk]) + \"   \" + str(nz[kk]) + '\\n')\n",
    "        \n",
    "    fo.close()"
   ]
  },
  {
   "cell_type": "code",
   "execution_count": null,
   "metadata": {},
   "outputs": [],
   "source": []
  }
 ],
 "metadata": {
  "kernelspec": {
   "display_name": "Python 3",
   "language": "python",
   "name": "python3"
  },
  "language_info": {
   "codemirror_mode": {
    "name": "ipython",
    "version": 3
   },
   "file_extension": ".py",
   "mimetype": "text/x-python",
   "name": "python",
   "nbconvert_exporter": "python",
   "pygments_lexer": "ipython3",
   "version": "3.6.6"
  }
 },
 "nbformat": 4,
 "nbformat_minor": 2
}
